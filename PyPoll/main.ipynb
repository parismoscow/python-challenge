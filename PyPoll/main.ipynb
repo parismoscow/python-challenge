{
 "cells": [
  {
   "cell_type": "code",
   "execution_count": 13,
   "metadata": {},
   "outputs": [
    {
     "name": "stdout",
     "output_type": "stream",
     "text": [
      "<_csv.reader object at 0x106905eb8>\n"
     ]
    }
   ],
   "source": [
    "import os\n",
    "\n",
    "# Module for reading CSV files\n",
    "import csv\n",
    "\n",
    "csvpath = os.path.join('..', 'Resources', 'election_data.csv')\n",
    "with open(csvpath, newline='') as csvfile:\n",
    "\n",
    "    # CSV reader specifies delimiter and variable that holds contents\n",
    "    csv_reader = csv.reader(csvfile, delimiter=',')\n",
    "\n",
    "    print(csvreader)\n",
    "    \n",
    "    csv_header = next(csv_reader)\n",
    "    #print(csv_header, '\\n')\n",
    "     # Read each row of data after the header\n",
    "    \n",
    "    number of votes = 0\n",
    "    candidates = 0\n",
    "    percentage of votes = 0\n",
    "    votes each candidate won = 0\n",
    "    The winner =0\n",
    "    \n",
    "    for row in csv_reader\n",
    "    \n",
    "    print()\n",
    "    print('Election Results', '\\n' '-------------------')\n",
    "    print('Total Votes: ', count, '\\n' '-------------------')\n",
    "    "
   ]
  },
  {
   "cell_type": "code",
   "execution_count": null,
   "metadata": {},
   "outputs": [],
   "source": []
  }
 ],
 "metadata": {
  "kernelspec": {
   "display_name": "Python [conda env:PythonData]",
   "language": "python",
   "name": "pythondata"
  },
  "language_info": {
   "codemirror_mode": {
    "name": "ipython",
    "version": 3
   },
   "file_extension": ".py",
   "mimetype": "text/x-python",
   "name": "python",
   "nbconvert_exporter": "python",
   "pygments_lexer": "ipython3",
   "version": "3.7.0"
  }
 },
 "nbformat": 4,
 "nbformat_minor": 2
}
