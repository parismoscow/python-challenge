{
 "cells": [
  {
   "cell_type": "code",
   "execution_count": 1,
   "metadata": {},
   "outputs": [
    {
     "name": "stdout",
     "output_type": "stream",
     "text": [
      "Election Results\n",
      "-------------------------\n",
      "Total Votes: 3521001 \n",
      "-------------------------\n",
      "Khan:  63.0%  (2218231)\n",
      "Correy:  20.0%  (704200)\n",
      "Correy:  14.0%  (492940)\n",
      "O'Tooley:  3.0%  (105630)\n",
      "-------------------------\n",
      "Winner: Khan\n"
     ]
    }
   ],
   "source": [
    "import csv\n",
    "import os\n",
    "cvs_path = os.path.join('..', 'Resources', 'election_data.csv')\n",
    "\n",
    "with open(cvs_path, newline='') as csv_file:\n",
    "    csv_reader = csv.reader(csv_file, delimiter=',')\n",
    "    # print(csv_reader)\n",
    "\n",
    "    csv_header = next(csv_reader)\n",
    "    # print(csv_header, '\\n')\n",
    "    # print(f'CSV Header: {csv_header}' '\\n')\n",
    "\n",
    "    candidates = []  # ['Khan', 'Correy', 'Li', \"O'Tooley\"]\n",
    "    k_vote_counter = 0\n",
    "    c_vote_counter = 0\n",
    "    l_vote_counter = 0\n",
    "    o_vote_counter = 0\n",
    "\n",
    "    number_of_votes = 0\n",
    "\n",
    "    for row in csv_reader:\n",
    "        number_of_votes += 1\n",
    "        # Getting all candidates\n",
    "        if row[2] not in candidates:\n",
    "            candidates.append(row[2])\n",
    "        if row[2] == 'Khan':\n",
    "            k_vote_counter += 1  # Counting Khan's vote\n",
    "        elif row[2] == 'Correy':\n",
    "            c_vote_counter += 1  # Counting Correy's vote\n",
    "        elif row[2] == 'Li':\n",
    "            l_vote_counter += 1  # Counting Li's vote\n",
    "        else:\n",
    "            o_vote_counter += 1  # Counting O'Tooley's vote\n",
    "\n",
    "    k_vote_percent = round((k_vote_counter / number_of_votes) * 100, 2)\n",
    "    c_vote_percent = round((c_vote_counter / number_of_votes) * 100, 2)\n",
    "    l_vote_percent = round((l_vote_counter / number_of_votes) * 100, 2)\n",
    "    o_vote_percent = round((o_vote_counter / number_of_votes) * 100, 2)\n",
    "\n",
    "    print('Election Results\\n-------------------------')\n",
    "    print('Total Votes: {}'.format(number_of_votes), '\\n-------------------------')\n",
    "    print('{}:  {}%  ({})'.format(candidates[0], k_vote_percent, k_vote_counter))\n",
    "    print('{}:  {}%  ({})'.format(candidates[1], c_vote_percent, c_vote_counter))\n",
    "    print('{}:  {}%  ({})'.format(candidates[1], l_vote_percent, l_vote_counter))\n",
    "    print('{}:  {}%  ({})'.format(candidates[3], o_vote_percent, o_vote_counter))\n",
    "    print('-------------------------')\n",
    "\n",
    "    max_vote = (max(k_vote_counter, c_vote_counter, l_vote_counter, o_vote_counter))\n",
    "\n",
    "    results = {}\n",
    "    list_counter = [k_vote_counter, c_vote_counter, l_vote_counter, o_vote_counter]\n",
    "\n",
    "    for i in range(len(candidates)):\n",
    "        results[candidates[i]] = list_counter[i]\n",
    "\n",
    "    for name, vote in results.items():\n",
    "        if vote == max_vote:\n",
    "            winner = name\n",
    "    print('Winner:', winner)"
   ]
  },
  {
   "cell_type": "code",
   "execution_count": 2,
   "metadata": {},
   "outputs": [],
   "source": [
    "PyPoll_final_file = os.path.join(\"..\",'Resources', \"PyPoll_Summary.txt\")\n",
    "with open (PyPoll_final_file, \"w\") as file:\n",
    "    # Write methods to print PyPoll_summary\n",
    "        file.write('Election Results')\n",
    "        file.write(\"\\n\")\n",
    "        file.write('------------------')\n",
    "        file.write(\"\\n\")\n",
    "        file.write(f\"Total Votes: {number_of_votes}\")\n",
    "        file.write(\"\\n\")\n",
    "        file.write('------------------')\n",
    "        file.write(\"\\n\")\n",
    "        file.write(f\"{candidates[0], k_vote_percent, '%', k_vote_counter}\")\n",
    "        file.write(\"\\n\")\n",
    "        file.write(f\"{candidates[1], c_vote_percent , '%', c_vote_counter}\")\n",
    "        file.write(\"\\n\")\n",
    "        file.write(f\"{candidates[2], l_vote_percent , '%', l_vote_counter}\")\n",
    "        file.write(\"\\n\")\n",
    "        file.write(f\"{candidates[3], o_vote_percent , '%', o_vote_counter}\")\n",
    "        file.write(\"\\n\")\n",
    "        file.write('------------------')\n",
    "        file.write(\"\\n\")\n",
    "        file.write(f\"Winner: {winner}\")"
   ]
  },
  {
   "cell_type": "code",
   "execution_count": null,
   "metadata": {},
   "outputs": [],
   "source": []
  },
  {
   "cell_type": "code",
   "execution_count": null,
   "metadata": {},
   "outputs": [],
   "source": []
  }
 ],
 "metadata": {
  "kernelspec": {
   "display_name": "Python [conda env:PythonData]",
   "language": "python",
   "name": "pythondata"
  },
  "language_info": {
   "codemirror_mode": {
    "name": "ipython",
    "version": 3
   },
   "file_extension": ".py",
   "mimetype": "text/x-python",
   "name": "python",
   "nbconvert_exporter": "python",
   "pygments_lexer": "ipython3",
   "version": "3.7.0"
  }
 },
 "nbformat": 4,
 "nbformat_minor": 2
}
