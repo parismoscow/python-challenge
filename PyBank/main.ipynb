{
 "cells": [
  {
   "cell_type": "code",
   "execution_count": 3,
   "metadata": {},
   "outputs": [
    {
     "name": "stdout",
     "output_type": "stream",
     "text": [
      "\n",
      "Financial Analysis \n",
      "-------------------\n",
      "Total Months:  86\n",
      "Total: $ 38382578\n",
      "Average Change $ -2315.12\n",
      "Greatest Increase in Profits: 1926159\n",
      "Greatest Decrease in Profits: -2196167\n"
     ]
    }
   ],
   "source": [
    "import csv\n",
    "import os\n",
    "cvs_path = os.path.join(\"..\",'Resources', 'budget_data.csv')\n",
    "\n",
    "with open(cvs_path, newline='') as csv_file:\n",
    "    csv_reader = csv.reader(csv_file, delimiter=',')\n",
    "    #print(csv_reader)\n",
    "\n",
    "    csv_header = next(csv_reader)\n",
    "    #print(csv_header, '\\n')\n",
    "    # print(f'CSV Header: {csv_header}' '\\n')\n",
    "\n",
    "    net_total = 0\n",
    "    count = 0\n",
    "    changes = []\n",
    "\n",
    "    for row in csv_reader:\n",
    "        row_data = (row[0]).split(',')\n",
    "        profit_loss = int(row_data[1])\n",
    "        changes.append(profit_loss)\n",
    "        #print(profit_loss)\n",
    "        net_total = net_total + profit_loss\n",
    "        count += 1\n",
    "\n",
    "    print()\n",
    "    print('Financial Analysis', '\\n' '-------------------')\n",
    "    print('Total Months: ', count)\n",
    "    print('Total:', '$', net_total)\n",
    "\n",
    "    i = 0\n",
    "    j = 1\n",
    "    total_net_changes = []\n",
    "    while j < len(changes):\n",
    "        net_change = changes[j] - changes[i]\n",
    "        total_net_changes.append(net_change)\n",
    "        i += 1\n",
    "        j += 1\n",
    "\n",
    "    sum_of_total_net_changes = sum(total_net_changes)\n",
    "    average_change = round(sum_of_total_net_changes / (len(total_net_changes)), 2)\n",
    "    greatest_increase = max(total_net_changes)\n",
    "    greatest_decrease = min(total_net_changes)\n",
    "\n",
    "    #the max and min of the the montly profit change \n",
    "    max_increase_value = max(changes)\n",
    "    max_decrease_value = min(changes)\n",
    "    \n",
    "     \n",
    "    \n",
    "    print('Average Change', '$', average_change)\n",
    "    print('Greatest Increase in Profits:' , greatest_increase)\n",
    "    print('Greatest Decrease in Profits:' , greatest_decrease)\n",
    "    \n",
    "    final_file = os.path.join(\"..\",'Resources', \"PyBank_Summary.txt\")\n",
    "    with open (final_file, \"w\") as file:\n",
    "    # Write methods to print PyBank_summary\n",
    "        file.write('Financial Analysis')\n",
    "        file.write(\"\\n\")\n",
    "        file.write('__________________')\n",
    "        file.write(\"\\n\")\n",
    "        file.write(f\"Total Months: {count}\")\n",
    "        file.write(\"\\n\")\n",
    "        file.write(f\"Total: ${net_total}\")\n",
    "        file.write(\"\\n\")\n",
    "        file.write(f\"Average Change: ${average_change}\")\n",
    "        file.write(\"\\n\")\n",
    "        file.write(f\"Greatest Increase in Profits: {greatest_increase}\")\n",
    "        file.write(\"\\n\")\n",
    "        file.write(f\"Greatest Decrease in Profits: {greatest_decrease}\")\n",
    "        file.write(\"\\n\")\n",
    "    \n",
    "    "
   ]
  },
  {
   "cell_type": "code",
   "execution_count": null,
   "metadata": {},
   "outputs": [],
   "source": []
  },
  {
   "cell_type": "code",
   "execution_count": null,
   "metadata": {},
   "outputs": [],
   "source": []
  }
 ],
 "metadata": {
  "kernelspec": {
   "display_name": "Python [conda env:PythonData]",
   "language": "python",
   "name": "pythondata"
  },
  "language_info": {
   "codemirror_mode": {
    "name": "ipython",
    "version": 3
   },
   "file_extension": ".py",
   "mimetype": "text/x-python",
   "name": "python",
   "nbconvert_exporter": "python",
   "pygments_lexer": "ipython3",
   "version": "3.7.0"
  }
 },
 "nbformat": 4,
 "nbformat_minor": 2
}
